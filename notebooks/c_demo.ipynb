{
 "cells": [
  {
   "cell_type": "code",
   "execution_count": 340,
   "metadata": {},
   "outputs": [
    {
     "name": "stdout",
     "output_type": "stream",
     "text": [
      "env: OMP_NUM_THREADS=10\n",
      "Populating the interactive namespace from numpy and matplotlib\n",
      "The autoreload extension is already loaded. To reload it, use:\n",
      "  %reload_ext autoreload\n"
     ]
    },
    {
     "name": "stderr",
     "output_type": "stream",
     "text": [
      "/home/nicholas/.local/lib/python3.6/site-packages/IPython/core/magics/pylab.py:160: UserWarning: pylab import has clobbered these variables: ['f', 'imread', 'imsave', 'random', 'meshgrid', 'plt']\n",
      "`%matplotlib` prevents importing * from pylab and numpy\n",
      "  \"\\n`%matplotlib` prevents importing * from pylab and numpy\"\n"
     ]
    }
   ],
   "source": [
    "%env OMP_NUM_THREADS=10\n",
    "%pylab inline\n",
    "%load_ext autoreload\n",
    "%autoreload 2"
   ]
  },
  {
   "cell_type": "code",
   "execution_count": 341,
   "metadata": {},
   "outputs": [],
   "source": [
    "from __future__ import print_function\n",
    "import os\n",
    "import sys\n",
    "import cv2\n",
    "import math\n",
    "import pickle\n",
    "import numpy as np\n",
    "import matplotlib.pylab as plt\n",
    "import tensorflow as tf\n",
    "from collections import namedtuple\n",
    "import importlib\n",
    "import inspect\n",
    "from collections import namedtuple\n",
    "import time\n",
    "import glob\n",
    "from imageio import imread, imsave\n",
    "#print('USE GPU #{} Host={}'.format(os.environ.get('CUDA_VISIBLE_DEVICES'), os.uname()[1]))\n",
    "os.environ[\"CUDA_VISIBLE_DEVICES\"] = \"3\""
   ]
  },
  {
   "cell_type": "code",
   "execution_count": 342,
   "metadata": {},
   "outputs": [],
   "source": [
    "LOCAL_PATH = '../'\n",
    "if LOCAL_PATH not in sys.path:\n",
    "    sys.path.append(LOCAL_PATH)\n",
    "from common.tf_layer_utils import *\n",
    "from mydatasets import *\n",
    "from det_tools import *\n",
    "from inference import *\n",
    "MODEL_PATH = '../models/'\n",
    "if MODEL_PATH not in sys.path:\n",
    "    sys.path.append(MODEL_PATH)\n",
    "COMMON_PATH = '../common/'\n",
    "if COMMON_PATH not in sys.path:\n",
    "    sys.path.append(COMMON_PATH)\n",
    "    \n",
    "from io_utils import read_text\n",
    "from jupyter_utils import display_image_batch\n"
   ]
  },
  {
   "cell_type": "code",
   "execution_count": 343,
   "metadata": {},
   "outputs": [],
   "source": [
    "given_config = namedtuple('params', 'model')\n",
    "given_config.model = '/data/lfnet/release/models/outdoor/'\n",
    "#default: given_config.top_k=1024\n",
    "given_config.top_k = 1024\n",
    "yfcc_dir = '/data/lfnet/release/outdoor_examples/'\n",
    "given_config.img_dir = os.path.join(yfcc_dir, 'images')\n",
    "given_config.dpt_dir = os.path.join(yfcc_dir, 'depths')\n",
    "given_config.seq_names = ['sacre_coeur']\n",
    "given_config.dist_thresh = 5"
   ]
  },
  {
   "cell_type": "code",
   "execution_count": 344,
   "metadata": {},
   "outputs": [
    {
     "name": "stdout",
     "output_type": "stream",
     "text": [
      "Add dist_thresh 5\n",
      "Add dpt_dir /data/lfnet/release/outdoor_examples/depths\n",
      "Add img_dir /data/lfnet/release/outdoor_examples/images\n",
      "Add model /data/lfnet/release/models/outdoor/\n",
      "Add seq_names ['sacre_coeur']\n",
      "Overwrite top_k : 512 --> 1024\n"
     ]
    }
   ],
   "source": [
    "# load config file\n",
    "config_path = os.path.join(given_config.model, 'config.pkl')\n",
    "try:\n",
    "    with open(config_path, 'rb') as f:\n",
    "        config = pickle.load(f)\n",
    "except:\n",
    "    raise ValueError('Fail to open {}'.format(config_path))\n",
    "\n",
    "# overwrite each given_config parameters\n",
    "for attr, dst_val in sorted(vars(given_config).items()):\n",
    "    if attr.startswith('_'):\n",
    "        continue\n",
    "    elif hasattr(config, attr):\n",
    "        src_val = getattr(config, attr)\n",
    "        if src_val != dst_val:\n",
    "            print('Overwrite {} : {} --> {}'.format(attr, src_val, dst_val))\n",
    "            setattr(config, attr, dst_val)\n",
    "    else:\n",
    "        print('Add {} {}'.format(attr, dst_val))\n",
    "        setattr(config, attr, dst_val)"
   ]
  },
  {
   "cell_type": "code",
   "execution_count": 345,
   "metadata": {
    "scrolled": true
   },
   "outputs": [],
   "source": [
    "tf.reset_default_graph()\n",
    "\"\"\"\n",
    "batch_size = 1 # fixed\n",
    "data_loader = RawSfMDataset(longer_edge=640)\n",
    "\n",
    "dataset = data_loader.get_dataset(config.dpt_dir, config.img_dir, \n",
    "                config.seq_names, phase='valid', shuffle=True, seed=12345, max_examples=500)\n",
    "\n",
    "next_batch = dataset.make_one_shot_iterator().get_next()\n",
    "photos1, photos2, depths1, depths2, valid_masks1, valid_masks2, c2Tc1s, c1Tc2s, c1Tws, c2Tws, Ks1, Ks2, theta_params, use_aug = next_batch\n",
    "rgbs1 = tf.concat([photos1, photos1, photos1], axis=-1)\n",
    "rgbs2 = tf.concat([photos2, photos2, photos2], axis=-1)\n",
    "# Not apply any augmentations\n",
    "thetas1 = tf.tile(tf.eye(3)[None], [batch_size, 1, 1])\n",
    "thetas2 = tf.tile(tf.eye(3)[None], [batch_size, 1, 1])\n",
    "inv_thetas1 = tf.matrix_inverse(thetas1)\n",
    "inv_thetas2 = tf.matrix_inverse(thetas2)\n",
    "# next_batch = [photos1, photos2, depths1, depths2, valid_masks1, valid_masks2, \n",
    "#               c2Tc1s, c1Tc2s, c1Tws, c2Tws, Ks1, Ks2, \n",
    "#               thetas1, thetas2, inv_thetas1, inv_thetas2, theta_params]\n",
    "\n",
    "# photos1 = tf.placeholder(tf.float32, [None,None,None,1])\n",
    "# photos2 = tf.placeholder(tf.float32, [None,None,None,1])\n",
    "\"\"\"\n",
    "\n",
    "photos1 = tf.placeholder(tf.float32, [None,None,None,1])\n",
    "photos2 = tf.placeholder(tf.float32, [None,None,None,1])\n",
    "is_training = tf.placeholder(tf.bool)\n",
    "\n",
    "DATASET_DIR = \"/data/YCJ_bkp/fyp_ycj/six_dof_1cm5deg_A2/img\"\n",
    "dataset = CDataset()\n",
    "#TODO: longer edge? Current image size is 480x640x3\n",
    "dataset.load_img_from_dir(DATASET_DIR)\n",
    "dataset.prepare(shuffle=True)"
   ]
  },
  {
   "cell_type": "code",
   "execution_count": 346,
   "metadata": {},
   "outputs": [],
   "source": [
    "rgb1, grey1, rgb2, grey2 = dataset.get_next()"
   ]
  },
  {
   "cell_type": "markdown",
   "metadata": {},
   "source": [
    "### Detect and describe local features"
   ]
  },
  {
   "cell_type": "code",
   "execution_count": 347,
   "metadata": {},
   "outputs": [
    {
     "name": "stdout",
     "output_type": "stream",
     "text": [
      "Act-Fn:  <function get_activation_fn.<locals>.<lambda> at 0x7fa704589d08>\n",
      "Apply 3D NMS instead.\n",
      "Scales (0.707107~1.41 #5): [1.41421356 1.18920712 1.         0.84089642 0.70710678]\n",
      "INFO:tensorflow:Summary name ConvOnlyResNet/ori_conv/weights:0 is illegal; using ConvOnlyResNet/ori_conv/weights_0 instead.\n",
      "INFO:tensorflow:Summary name ConvOnlyResNet/ori_conv/biases:0 is illegal; using ConvOnlyResNet/ori_conv/biases_0 instead.\n",
      "PAD=16, #conv=8, ksize=5 ori-ksize=5\n",
      "Scales (0.707107~1.41 #5): [1.41421356 1.18920712 1.         0.84089642 0.70710678]\n",
      "PAD=16, #conv=8, ksize=5 ori-ksize=5\n"
     ]
    }
   ],
   "source": [
    "DET = importlib.import_module(config.detector)\n",
    "detector = DET.Model(config, is_training)\n",
    "\n",
    "if config.use_nms3d:\n",
    "    print('Apply 3D NMS instead.')\n",
    "    heatmaps1, det_endpoints = build_multi_scale_deep_detector_3DNMS(config, detector, photos1, reuse=False)\n",
    "    heatmaps2, det_endpoints2 = build_multi_scale_deep_detector_3DNMS(config, detector, photos2, reuse=True)\n",
    "else:\n",
    "    heatmaps1, det_endpoints = build_multi_scale_deep_detector(config, detector, photos1, reuse=False)\n",
    "    heatmaps2, det_endpoints2 = build_multi_scale_deep_detector(config, detector, photos2, reuse=True)\n",
    "\n",
    "degree_maps1 = visualize_degree_map(det_endpoints['ori_maps'])\n",
    "degree_maps2 = visualize_degree_map(det_endpoints2['ori_maps'])"
   ]
  },
  {
   "cell_type": "code",
   "execution_count": 348,
   "metadata": {},
   "outputs": [
    {
     "name": "stdout",
     "output_type": "stream",
     "text": [
      "Act-Fn:  <function relu at 0x7fa7b5298510>\n",
      "===== SimpleDesc (reuse=False) =====\n",
      "#1 conv-bn-act (?, 16, 16, 64)\n",
      "#2 conv-bn-act (?, 8, 8, 128)\n",
      "#3 conv-bn-act (?, 4, 4, 256)\n",
      "FLAT (?, 4096)\n",
      "Feat-Norm: L2-NORM\n",
      "FEAT (?, 256)\n",
      "===== SimpleDesc (reuse=True) =====\n",
      "#1 conv-bn-act (?, 16, 16, 64)\n",
      "#2 conv-bn-act (?, 8, 8, 128)\n",
      "#3 conv-bn-act (?, 4, 4, 256)\n",
      "FLAT (?, 4096)\n",
      "Feat-Norm: L2-NORM\n",
      "FEAT (?, 256)\n"
     ]
    }
   ],
   "source": [
    "# extract patches\n",
    "kpts1 = det_endpoints['kpts']\n",
    "kpts2 = det_endpoints2['kpts']\n",
    "batch_inds1 = det_endpoints['batch_inds']\n",
    "\n",
    "kp_patches1 = build_patch_extraction(config, det_endpoints, photos1)\n",
    "kp_patches2 = build_patch_extraction(config, det_endpoints2, photos2)\n",
    "\n",
    "# Descriptor\n",
    "DESC = importlib.import_module(config.descriptor)\n",
    "descriptor = DESC.Model(config, is_training)\n",
    "desc_feats1, desc_endpoints = descriptor.build_model(kp_patches1, reuse=False) # [B*K,D]\n",
    "desc_feats2, _          = descriptor.build_model(kp_patches2, reuse=True) # [B*K,D]"
   ]
  },
  {
   "cell_type": "code",
   "execution_count": 349,
   "metadata": {},
   "outputs": [],
   "source": [
    "nn_dist, nn_inds2, _, _, _ = nearest_neighbors(desc_feats1, desc_feats2)\n",
    "kpts2_corr = tf.cast(tf.gather(kpts2, nn_inds2), tf.float32)"
   ]
  },
  {
   "cell_type": "markdown",
   "metadata": {},
   "source": [
    "### Check with Ground truth"
   ]
  },
  {
   "cell_type": "code",
   "execution_count": 350,
   "metadata": {},
   "outputs": [
    {
     "data": {
      "text/plain": [
       "\"\\nkpts1_int = tf.cast(kpts1, tf.int32)\\nheatmaps1w, visible_masks1, xy_maps1to2 =     inverse_warp_view_2_to_1(heatmaps2, depths2, depths1, c2Tc1s, \\n                            K1=Ks1, K2=Ks2, \\n                            inv_thetas1=inv_thetas1, thetas2=thetas2,\\n                            depth_thresh=config.depth_thresh)\\nheatmaps2w, visible_masks2, xy_maps2to1 =     inverse_warp_view_2_to_1(heatmaps1, depths1, depths2, c1Tc2s, \\n                            K1=Ks2, K2=Ks1,\\n                            inv_thetas1=inv_thetas2, thetas2=thetas1,\\n                            depth_thresh=config.depth_thresh)\\nvisible_masks1 = visible_masks1 * valid_masks1 # take 'and'\\nvisible_masks2 = visible_masks2 * valid_masks2\\n\\nkpts2w = batch_gather_keypoints(xy_maps1to2, batch_inds1, kpts1_int)\\nkpvis2w = batch_gather_keypoints(visible_masks1, batch_inds1, kpts1_int)[:,0] \\n\\nmatch_dist = tf.maximum(tf.cast(tf.reduce_sum(tf.squared_difference(kpts2_corr, kpts2w), axis=1), tf.float32), 1e-6)\\nmatch_dist = tf.sqrt(match_dist)\\nis_match = tf.cast(tf.less_equal(match_dist, config.dist_thresh), tf.float32) * kpvis2w\\n\\n\\n# SIFT\\nsift_endpoints = build_competitor_matching_estimation(config, dist_thresh=config.dist_thresh)\\n\""
      ]
     },
     "execution_count": 350,
     "metadata": {},
     "output_type": "execute_result"
    }
   ],
   "source": [
    "\"\"\"\n",
    "kpts1_int = tf.cast(kpts1, tf.int32)\n",
    "heatmaps1w, visible_masks1, xy_maps1to2 = \\\n",
    "    inverse_warp_view_2_to_1(heatmaps2, depths2, depths1, c2Tc1s, \n",
    "                            K1=Ks1, K2=Ks2, \n",
    "                            inv_thetas1=inv_thetas1, thetas2=thetas2,\n",
    "                            depth_thresh=config.depth_thresh)\n",
    "heatmaps2w, visible_masks2, xy_maps2to1 = \\\n",
    "    inverse_warp_view_2_to_1(heatmaps1, depths1, depths2, c1Tc2s, \n",
    "                            K1=Ks2, K2=Ks1,\n",
    "                            inv_thetas1=inv_thetas2, thetas2=thetas1,\n",
    "                            depth_thresh=config.depth_thresh)\n",
    "visible_masks1 = visible_masks1 * valid_masks1 # take 'and'\n",
    "visible_masks2 = visible_masks2 * valid_masks2\n",
    "\n",
    "kpts2w = batch_gather_keypoints(xy_maps1to2, batch_inds1, kpts1_int)\n",
    "kpvis2w = batch_gather_keypoints(visible_masks1, batch_inds1, kpts1_int)[:,0] \n",
    "\n",
    "match_dist = tf.maximum(tf.cast(tf.reduce_sum(tf.squared_difference(kpts2_corr, kpts2w), axis=1), tf.float32), 1e-6)\n",
    "match_dist = tf.sqrt(match_dist)\n",
    "is_match = tf.cast(tf.less_equal(match_dist, config.dist_thresh), tf.float32) * kpvis2w\n",
    "\n",
    "\n",
    "# SIFT\n",
    "sift_endpoints = build_competitor_matching_estimation(config, dist_thresh=config.dist_thresh)\n",
    "\"\"\""
   ]
  },
  {
   "cell_type": "code",
   "execution_count": 351,
   "metadata": {},
   "outputs": [
    {
     "name": "stdout",
     "output_type": "stream",
     "text": [
      "Load trained models...\n",
      "Checkpoint models-latest-42000\n",
      "[Wed Apr  8 08:23:26 2020] Resuming...\n",
      "INFO:tensorflow:Restoring parameters from /data/lfnet/release/models/outdoor/models-latest-42000\n",
      "Done.\n"
     ]
    }
   ],
   "source": [
    "tfconfig = tf.ConfigProto()\n",
    "tfconfig.gpu_options.allow_growth = True \n",
    "sess = tf.Session(config=tfconfig)\n",
    "sess.run(tf.global_variables_initializer())\n",
    "\n",
    "# load model\n",
    "saver = tf.train.Saver()\n",
    "print('Load trained models...')\n",
    "\n",
    "if os.path.isdir(config.model):\n",
    "    checkpoint = tf.train.latest_checkpoint(config.model)\n",
    "    model_dir = config.model\n",
    "else:\n",
    "    checkpoint = config.model\n",
    "    model_dir = os.path.dirname(config.model)\n",
    "\n",
    "if checkpoint is not None:\n",
    "    print('Checkpoint', os.path.basename(checkpoint))\n",
    "    print(\"[{}] Resuming...\".format(time.asctime()))\n",
    "    saver.restore(sess, checkpoint)\n",
    "else:\n",
    "    raise ValueError('Cannot load model from {}'.format(model_dir))    \n",
    "print('Done.')"
   ]
  },
  {
   "cell_type": "code",
   "execution_count": 352,
   "metadata": {
    "scrolled": false
   },
   "outputs": [],
   "source": [
    "feed_dict = {\n",
    "    photos1: grey1,\n",
    "    photos2: grey2,\n",
    "    is_training: False,\n",
    "}\n",
    "\"\"\"\n",
    "fetch_dict = {\n",
    "    'photos1': photos1,\n",
    "    'photos2': photos2,\n",
    "    'rgbs1': rgbs1,\n",
    "    'rgbs2': rgbs2,\n",
    "    'kpts1': kpts1,\n",
    "    'kpts2': kpts2,\n",
    "    'kpts2_corr': kpts2_corr,\n",
    "    'is_match': is_match,\n",
    "    'degree_maps1': degree_maps1,\n",
    "    'degree_maps2': degree_maps2,\n",
    "    'xy_maps1to2': xy_maps1to2,\n",
    "    'visible_masks1': visible_masks1,\n",
    "}\n",
    "\"\"\"\n",
    "fetch_dict = {\n",
    "    'kpts1': kpts1,\n",
    "    'kpts2': kpts2,\n",
    "    'nn_dist': nn_dist,\n",
    "    'kpts2_corr': kpts2_corr,\n",
    "    'degree_maps1': degree_maps1,\n",
    "    'degree_maps2': degree_maps2\n",
    "}\n",
    "outs = sess.run(fetch_dict, feed_dict=feed_dict)"
   ]
  },
  {
   "cell_type": "code",
   "execution_count": 353,
   "metadata": {},
   "outputs": [
    {
     "name": "stdout",
     "output_type": "stream",
     "text": [
      "(480, 640, 3) (1, 480, 640, 1)\n",
      "(480, 640, 3) (1, 480, 640, 1)\n"
     ]
    }
   ],
   "source": [
    "#outs['photos1'].shape\n",
    "print(rgb1.shape, grey1.shape)\n",
    "print(rgb2.shape, grey2.shape)"
   ]
  },
  {
   "cell_type": "code",
   "execution_count": 354,
   "metadata": {},
   "outputs": [],
   "source": [
    "# Change below to true to sort correspondences from least difference between the two descriptors\n",
    "sort_top_corr = False\n",
    "\n",
    "# Currently the easiest way to sort based on keypoint score value is to change\n",
    "# given_config.top_k parameter above"
   ]
  },
  {
   "cell_type": "code",
   "execution_count": 355,
   "metadata": {},
   "outputs": [
    {
     "name": "stdout",
     "output_type": "stream",
     "text": [
      "#Matches = 1024\n"
     ]
    },
    {
     "data": {
      "image/png": "[encoded data removed]",
      "text/plain": [
       "<Figure size 432x288 with 1 Axes>"
      ]
     },
     "metadata": {
      "needs_background": "light"
     },
     "output_type": "display_data"
    }
   ],
   "source": [
    "#rgb1 = outs['rgbs1'][0]\n",
    "#rgb2 = outs['rgbs2'][0]\n",
    "if sort_top_corr:\n",
    "    sort_corr = np.argsort(outs['nn_dist'])\n",
    "    sort_kpts1 = outs['kpts1'][sort_corr]\n",
    "    sort_kpts2_corr = outs['kpts2_corr'][sort_corr]\n",
    "    match_pairs = np.concatenate([sort_kpts1, sort_kpts2_corr], axis=1)[:10]\n",
    "else:\n",
    "    match_pairs = np.concatenate([outs['kpts1'], outs['kpts2_corr']], axis=1)\n",
    "\n",
    "#match_pairs = match_pairs[outs['is_match']==1]\n",
    "\n",
    "h1, w1 = rgb1.shape[:2]\n",
    "h2, w2 = rgb2.shape[:2]\n",
    "canvas = np.zeros((max(h1, h2), w1+w2, 3), dtype=rgb1.dtype)\n",
    "canvas[:h1, :w1] = rgb1\n",
    "canvas[:h2, w1:] = rgb2\n",
    "fig = plt.figure(frameon=False)\n",
    "fig = plt.imshow(canvas)\n",
    "\n",
    "xs = match_pairs[:,[0,2]]\n",
    "xs[:,1] += w1\n",
    "ys = match_pairs[:,[1,3]]\n",
    "\n",
    "lw = .25\n",
    "alpha = 1\n",
    "sf = 5\n",
    "lw = .2\n",
    "markersize = 1\n",
    "\n",
    "plt.plot(\n",
    "    xs.T, ys.T,\n",
    "    alpha=alpha,\n",
    "    linestyle=\"-\",\n",
    "    linewidth=lw,\n",
    "    aa=False,\n",
    "    marker='.',\n",
    "    markersize=markersize,\n",
    "    color=[0.0, 0.67, 0.0],\n",
    ");\n",
    "print('#Matches = {}'.format(len(match_pairs)))\n",
    "#plt.savefig('B.jpg')"
   ]
  },
  {
   "cell_type": "code",
   "execution_count": 356,
   "metadata": {},
   "outputs": [
    {
     "data": {
      "text/plain": [
       "<matplotlib.image.AxesImage at 0x7fa74c58cd30>"
      ]
     },
     "execution_count": 356,
     "metadata": {},
     "output_type": "execute_result"
    },
    {
     "data": {
      "image/png": "[encoded data removed]",
      "text/plain": [
       "<Figure size 432x288 with 2 Axes>"
      ]
     },
     "metadata": {
      "needs_background": "light"
     },
     "output_type": "display_data"
    }
   ],
   "source": [
    "plt.subplot(121)\n",
    "plt.imshow(outs['degree_maps1'][0])\n",
    "plt.subplot(122)\n",
    "plt.imshow(outs['degree_maps2'][0])"
   ]
  },
  {
   "cell_type": "markdown",
   "metadata": {},
   "source": [
    "## SIFT"
   ]
  },
  {
   "cell_type": "code",
   "execution_count": 357,
   "metadata": {},
   "outputs": [
    {
     "data": {
      "text/plain": [
       "\"\\nsift = cv2.xfeatures2d.SIFT_create(nfeatures=config.top_k, contrastThreshold=1e-5)\\nsift_in1 = (rgb1[...,0]*255).astype(np.uint8)\\nsift_in2 = (rgb2[...,0]*255).astype(np.uint8)\\nkp1, des1 = sift.detectAndCompute(sift_in1,None)\\nkp2, des2 = sift.detectAndCompute(sift_in2,None)\\nkp1 = np.array([[kp.pt[0],kp.pt[1]] for kp in kp1])\\nkp2 = np.array([[kp.pt[0],kp.pt[1]] for kp in kp2])\\nprint('#SIFT keypoints = {}, {}'.format(len(kp1), len(kp2)))\\n\""
      ]
     },
     "execution_count": 357,
     "metadata": {},
     "output_type": "execute_result"
    }
   ],
   "source": [
    "\"\"\"\n",
    "sift = cv2.xfeatures2d.SIFT_create(nfeatures=config.top_k, contrastThreshold=1e-5)\n",
    "sift_in1 = (rgb1[...,0]*255).astype(np.uint8)\n",
    "sift_in2 = (rgb2[...,0]*255).astype(np.uint8)\n",
    "kp1, des1 = sift.detectAndCompute(sift_in1,None)\n",
    "kp2, des2 = sift.detectAndCompute(sift_in2,None)\n",
    "kp1 = np.array([[kp.pt[0],kp.pt[1]] for kp in kp1])\n",
    "kp2 = np.array([[kp.pt[0],kp.pt[1]] for kp in kp2])\n",
    "print('#SIFT keypoints = {}, {}'.format(len(kp1), len(kp2)))\n",
    "\"\"\""
   ]
  },
  {
   "cell_type": "code",
   "execution_count": 358,
   "metadata": {},
   "outputs": [
    {
     "data": {
      "text/plain": [
       "\"feed_dict = {\\n    sift_endpoints['feats1_ph']: des1,\\n    sift_endpoints['feats2_ph']: des2,\\n    sift_endpoints['kpts1_ph']: kp1,\\n    sift_endpoints['kpts2_ph']: kp2,\\n    sift_endpoints['xy_maps1to2_ph']: outs['xy_maps1to2'],\\n    sift_endpoints['visible_masks1_ph']: outs['visible_masks1']\\n}\\nfetch_dict = {\\n    'kpts2_corr': sift_endpoints['kpts2_corr'],\\n    'is_match': sift_endpoints['is_match'],\\n}\\nouts = sess.run(fetch_dict, feed_dict)\\n\""
      ]
     },
     "execution_count": 358,
     "metadata": {},
     "output_type": "execute_result"
    }
   ],
   "source": [
    "\"\"\"feed_dict = {\n",
    "    sift_endpoints['feats1_ph']: des1,\n",
    "    sift_endpoints['feats2_ph']: des2,\n",
    "    sift_endpoints['kpts1_ph']: kp1,\n",
    "    sift_endpoints['kpts2_ph']: kp2,\n",
    "    sift_endpoints['xy_maps1to2_ph']: outs['xy_maps1to2'],\n",
    "    sift_endpoints['visible_masks1_ph']: outs['visible_masks1']\n",
    "}\n",
    "fetch_dict = {\n",
    "    'kpts2_corr': sift_endpoints['kpts2_corr'],\n",
    "    'is_match': sift_endpoints['is_match'],\n",
    "}\n",
    "outs = sess.run(fetch_dict, feed_dict)\n",
    "\"\"\""
   ]
  },
  {
   "cell_type": "code",
   "execution_count": 359,
   "metadata": {},
   "outputs": [
    {
     "data": {
      "text/plain": [
       "'match_pairs = np.concatenate([kp1, outs[\\'kpts2_corr\\']], axis=1)\\nmatch_pairs = match_pairs[outs[\\'is_match\\']==1]\\n\\nh1, w1 = rgb1.shape[:2]\\nh2, w2 = rgb2.shape[:2]\\ncanvas = np.zeros((max(h1, h2), w1+w2, 3), dtype=rgb1.dtype)\\ncanvas[:h1, :w1] = rgb1\\ncanvas[:h2, w1:] = rgb2\\nfig = plt.figure(frameon=False)\\nfig = plt.imshow(canvas)\\n\\nxs = match_pairs[:,[0,2]]\\nxs[:,1] += w1\\nys = match_pairs[:,[1,3]]\\n\\nlw = .25\\nalpha = 1\\nsf = 5\\nlw = .2\\nmarkersize = 1\\n\\nplt.plot(\\n    xs.T, ys.T,\\n    alpha=alpha,\\n    linestyle=\"-\",\\n    linewidth=lw,\\n    aa=False,\\n    marker=\\'.\\',\\n    markersize=markersize,\\n    color=[0.0, 0.67, 0.0],\\n);\\nprint(\\'#Matches = {}\\'.format(len(match_pairs)))\\n'"
      ]
     },
     "execution_count": 359,
     "metadata": {},
     "output_type": "execute_result"
    }
   ],
   "source": [
    "\"\"\"match_pairs = np.concatenate([kp1, outs['kpts2_corr']], axis=1)\n",
    "match_pairs = match_pairs[outs['is_match']==1]\n",
    "\n",
    "h1, w1 = rgb1.shape[:2]\n",
    "h2, w2 = rgb2.shape[:2]\n",
    "canvas = np.zeros((max(h1, h2), w1+w2, 3), dtype=rgb1.dtype)\n",
    "canvas[:h1, :w1] = rgb1\n",
    "canvas[:h2, w1:] = rgb2\n",
    "fig = plt.figure(frameon=False)\n",
    "fig = plt.imshow(canvas)\n",
    "\n",
    "xs = match_pairs[:,[0,2]]\n",
    "xs[:,1] += w1\n",
    "ys = match_pairs[:,[1,3]]\n",
    "\n",
    "lw = .25\n",
    "alpha = 1\n",
    "sf = 5\n",
    "lw = .2\n",
    "markersize = 1\n",
    "\n",
    "plt.plot(\n",
    "    xs.T, ys.T,\n",
    "    alpha=alpha,\n",
    "    linestyle=\"-\",\n",
    "    linewidth=lw,\n",
    "    aa=False,\n",
    "    marker='.',\n",
    "    markersize=markersize,\n",
    "    color=[0.0, 0.67, 0.0],\n",
    ");\n",
    "print('#Matches = {}'.format(len(match_pairs)))\n",
    "\"\"\""
   ]
  },
  {
   "cell_type": "code",
   "execution_count": null,
   "metadata": {},
   "outputs": [],
   "source": []
  }
 ],
 "metadata": {
  "kernelspec": {
   "display_name": "Python 3",
   "language": "python",
   "name": "python3"
  },
  "language_info": {
   "codemirror_mode": {
    "name": "ipython",
    "version": 3
   },
   "file_extension": ".py",
   "mimetype": "text/x-python",
   "name": "python",
   "nbconvert_exporter": "python",
   "pygments_lexer": "ipython3",
   "version": "3.6.9"
  }
 },
 "nbformat": 4,
 "nbformat_minor": 2
}
